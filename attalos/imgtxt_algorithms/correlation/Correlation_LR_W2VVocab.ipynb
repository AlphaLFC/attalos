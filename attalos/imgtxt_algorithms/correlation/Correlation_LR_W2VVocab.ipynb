{
 "cells": [
  {
   "cell_type": "code",
   "execution_count": null,
   "metadata": {
    "collapsed": true
   },
   "outputs": [],
   "source": [
    "import numpy as np\n",
    "import matplotlib.pylab as plt\n",
    "import sys\n",
    "import word2vec\n",
    "import os"
   ]
  },
  {
   "cell_type": "code",
   "execution_count": null,
   "metadata": {
    "collapsed": true
   },
   "outputs": [],
   "source": [
    "wordvecs_dir = os.environ[\"WORDVECS_DIR\"]\n",
    "dataset_dir = os.environ[\"DATASET_DIR\"]\n",
    "octave_eval_dir = os.environ[\"OCTAVE_EVAL_DIR\"]"
   ]
  },
  {
   "cell_type": "code",
   "execution_count": null,
   "metadata": {
    "collapsed": false
   },
   "outputs": [],
   "source": [
    "w2v_vector_file = os.path.join(wordvecs_dir, \"text9Bvin.bin\")\n",
    "w2v_model = word2vec.load(w2v_vector_file)"
   ]
  },
  {
   "cell_type": "code",
   "execution_count": null,
   "metadata": {
    "collapsed": true
   },
   "outputs": [],
   "source": [
    "def construct_W(w2v_model, vocab):\n",
    "    \"\"\"\n",
    "    Creates and returns a numpy ndarray of dimensions (200 x size(vocab)).\n",
    "    The nth column in this array represents the Word2Vec vector for the nth word in vocab.\n",
    "    Words in vocab not in the vocabulary for w2v_model will be ignored/skipped.\n",
    "    \n",
    "    :param w2v_model: A Word2Vec model from the word2vec package (available in pypi)\n",
    "    :param vocab: A list of words\n",
    "    :return: returns a numpy ndarray\n",
    "    \"\"\"\n",
    "    return np.asarray([w2v_model.get_vector(word) for word in vocab if word in w2v_model.vocab], dtype=np.float16).T"
   ]
  },
  {
   "cell_type": "code",
   "execution_count": null,
   "metadata": {
    "collapsed": false
   },
   "outputs": [],
   "source": [
    "def get_invalid_labels(labels, valid_labels):\n",
    "    \"\"\"\n",
    "    Returns a dictionary whose keys are words in labels that are not in valid_labels.\n",
    "    The values of the dictionary are the corresponding indices of the invalid words in labels.\n",
    "    \n",
    "    :param labels: A list of labels\n",
    "    :param valid_labels: A list of valid labels.\n",
    "    :return: return a dictionary\n",
    "    \"\"\"\n",
    "    return {word: idx for (idx, word) in enumerate(labels) if word not in valid_labels}"
   ]
  },
  {
   "cell_type": "code",
   "execution_count": null,
   "metadata": {
    "collapsed": true
   },
   "outputs": [],
   "source": [
    "def scale(arr):\n",
    "    return (arr - arr.min()) / (arr.max() - arr.min())"
   ]
  },
  {
   "cell_type": "code",
   "execution_count": null,
   "metadata": {
    "collapsed": true
   },
   "outputs": [],
   "source": [
    "def nonlinearity(arr, coef=-1, offset=1, power=2, alpha=0.005):\n",
    "    return np.exp(coef*np.power((arr-offset),power)/ alpha)"
   ]
  },
  {
   "cell_type": "code",
   "execution_count": null,
   "metadata": {
    "collapsed": true
   },
   "outputs": [],
   "source": [
    "from oct2py import octave\n",
    "octave.addpath(octave_eval_dir)"
   ]
  },
  {
   "cell_type": "code",
   "execution_count": null,
   "metadata": {
    "collapsed": false
   },
   "outputs": [],
   "source": [
    "%matplotlib inline"
   ]
  },
  {
   "cell_type": "markdown",
   "metadata": {},
   "source": [
    "---"
   ]
  },
  {
   "cell_type": "markdown",
   "metadata": {},
   "source": [
    "# Load data"
   ]
  },
  {
   "cell_type": "code",
   "execution_count": null,
   "metadata": {
    "collapsed": false
   },
   "outputs": [],
   "source": [
    "feature_dir = os.path.join(dataset_dir, \"alexnet-feats\")\n",
    "data = np.load(os.path.join(feature_dir, \"iaprtc_alexfc7.npz\"))\n",
    "with open(os.path.join(feature_dir, \"iaprtc_dictionary.txt\")) as dictionary:\n",
    "    D = dictionary.read().splitlines()\n",
    "with open(os.path.join(feature_dir, \"iaprtc_trainlist.txt\")) as trainlist:\n",
    "    train_ims = [ im.split('/')[-1] for im in trainlist.read().splitlines() ]\n",
    "    train_ims_full = [ im for im in trainlist.read().splitlines() ]\n",
    "with open(os.path.join(feature_dir, \"iaprtc_testlist.txt\")) as testlist:\n",
    "    test_ims_full = [ im for im in testlist.read().splitlines() ]\n",
    "\n",
    "xTr = data['xTr'].T # xtrain\n",
    "yTr = data['yTr'].T # ytrain\n",
    "xTe = data['xTe'].T # xtest\n",
    "yTe = data['yTe'].T # ytest"
   ]
  },
  {
   "cell_type": "code",
   "execution_count": null,
   "metadata": {
    "collapsed": false,
    "scrolled": true
   },
   "outputs": [],
   "source": [
    "print xTr.shape\n",
    "print yTr.shape\n",
    "print xTe.shape\n",
    "print yTe.shape"
   ]
  },
  {
   "cell_type": "markdown",
   "metadata": {},
   "source": [
    "---"
   ]
  },
  {
   "cell_type": "markdown",
   "metadata": {},
   "source": [
    "# Filter out labels not in W2V vocabulary"
   ]
  },
  {
   "cell_type": "code",
   "execution_count": null,
   "metadata": {
    "collapsed": false
   },
   "outputs": [],
   "source": [
    "to_remove = get_invalid_labels(D, w2v_model.vocab)"
   ]
  },
  {
   "cell_type": "code",
   "execution_count": null,
   "metadata": {
    "collapsed": true
   },
   "outputs": [],
   "source": [
    "D = filter(lambda word: word not in to_remove.keys(), D)"
   ]
  },
  {
   "cell_type": "code",
   "execution_count": null,
   "metadata": {
    "collapsed": false
   },
   "outputs": [],
   "source": [
    "yTr = np.delete(yTr, to_remove.values(), axis=1)"
   ]
  },
  {
   "cell_type": "code",
   "execution_count": null,
   "metadata": {
    "collapsed": true
   },
   "outputs": [],
   "source": [
    "yTe = np.delete(yTe, to_remove.values(), axis=1)"
   ]
  },
  {
   "cell_type": "code",
   "execution_count": null,
   "metadata": {
    "collapsed": false
   },
   "outputs": [],
   "source": [
    "print yTr.shape\n",
    "print yTe.shape"
   ]
  },
  {
   "cell_type": "code",
   "execution_count": null,
   "metadata": {
    "collapsed": true
   },
   "outputs": [],
   "source": [
    "orig_yTr = yTr\n",
    "orig_yTe = yTe"
   ]
  },
  {
   "cell_type": "markdown",
   "metadata": {},
   "source": [
    "---"
   ]
  },
  {
   "cell_type": "markdown",
   "metadata": {},
   "source": [
    "# Construct label-to-w2v_vocab correlation matrix"
   ]
  },
  {
   "cell_type": "code",
   "execution_count": null,
   "metadata": {
    "collapsed": true
   },
   "outputs": [],
   "source": [
    "W_L = construct_W(w2v_model, D)"
   ]
  },
  {
   "cell_type": "code",
   "execution_count": null,
   "metadata": {
    "collapsed": false
   },
   "outputs": [],
   "source": [
    "W_V = np.load(os.path.join(wordvecs_dir, \"w_v_16.npy\")) #construct_W(w2v_model, w2v_model.vocab)\n",
    "#np.save(os.path.join(wordvecs_dir, \"w_v_16.npy\"), W_V)"
   ]
  },
  {
   "cell_type": "markdown",
   "metadata": {},
   "source": [
    "---"
   ]
  },
  {
   "cell_type": "markdown",
   "metadata": {},
   "source": [
    "# Expand vocabulary"
   ]
  },
  {
   "cell_type": "code",
   "execution_count": null,
   "metadata": {
    "collapsed": false
   },
   "outputs": [],
   "source": [
    "expansion_arr = np.load(os.path.join(wordvecs_dir, \"expansion_arr.npy\")) #np.dot(W_V.T, W_L)\n",
    "#np.save(os.path.join(wordvecs_dir, \"expansion_arr.npy\"), expansion_arr)"
   ]
  },
  {
   "cell_type": "code",
   "execution_count": null,
   "metadata": {
    "collapsed": false
   },
   "outputs": [],
   "source": [
    "expanded = np.dot(yTr, nonlinearity(expansion_arr).T) #np.load(os.path.join(wordvecs_dir, \"expanded.npy\"))\n",
    "#np.save(os.path.join(wordvecs_dir, \"expanded.npy\"), expanded)"
   ]
  },
  {
   "cell_type": "code",
   "execution_count": null,
   "metadata": {
    "collapsed": false,
    "scrolled": true
   },
   "outputs": [],
   "source": [
    "# Randomly select an image\n",
    "i=np.random.randint(0, yTr.shape[1])\n",
    "\n",
    "# Run example\n",
    "imname = os.path.join(dataset_dir, \"images\", \"images\", \"%s.jpg\" % train_ims_full[i])\n",
    "print \"Looking at the \"+str(i)+\"th image: \"+imname\n",
    "im=plt.imread(imname)\n",
    "\n",
    "# Prediction\n",
    "#threshold = np.percentile(yHat[i], 99)\n",
    "#top_idxs = [idx for idx in yHat[i].argsort()[::-1] if yHat[i][idx] > threshold]\n",
    "#ypwords = [d_words[idx] for idx in top_idxs]\n",
    "ypwords = [w2v_model.vocab[idx] for idx in expanded[i].argsort()[::-1][:10]]\n",
    "#ypwords = [D[j] for j in yHat[i].argsort()[::-1] [ 0:(yHat[i]>0.2).sum() ] ]\n",
    "# Truth\n",
    "ytwords = [D[idx] for idx in np.nonzero(orig_yTr[i])[0]]\n",
    "#ytwords = [D[j] for j in np.where(yTe[i] > 0.5)[0] ]\n",
    "plt.imshow(im)\n",
    "\n",
    "print 'Predicted: '+ ', '.join(ypwords)\n",
    "print 'Truth:     '+ ', '.join(ytwords)\n",
    "\n",
    "plt.figure()"
   ]
  },
  {
   "cell_type": "code",
   "execution_count": null,
   "metadata": {
    "collapsed": true
   },
   "outputs": [],
   "source": []
  }
 ],
 "metadata": {
  "kernelspec": {
   "display_name": "Attalos (Py2.7)",
   "language": "python",
   "name": "attalos"
  },
  "language_info": {
   "codemirror_mode": {
    "name": "ipython",
    "version": 2
   },
   "file_extension": ".py",
   "mimetype": "text/x-python",
   "name": "python",
   "nbconvert_exporter": "python",
   "pygments_lexer": "ipython2",
   "version": "2.7.11"
  }
 },
 "nbformat": 4,
 "nbformat_minor": 0
}
